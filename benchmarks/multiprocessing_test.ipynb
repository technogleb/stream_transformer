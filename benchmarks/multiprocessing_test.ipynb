{
 "cells": [
  {
   "cell_type": "code",
   "execution_count": 3,
   "metadata": {},
   "outputs": [],
   "source": [
    "from simple_timer import SimpleTimer"
   ]
  },
  {
   "cell_type": "markdown",
   "metadata": {},
   "source": [
    "#### As you can see, the more cpu bound the task is, the higher impact does multiprocessing has on performance time. If you have only one core, it's better to just iterate over file_obj = open(\"file\"), otherwise using StreamFileMapper is faster."
   ]
  },
  {
   "cell_type": "code",
   "execution_count": 4,
   "metadata": {},
   "outputs": [
    {
     "name": "stdout",
     "output_type": "stream",
     "text": [
      "It took 34.84998106956482\n"
     ]
    }
   ],
   "source": [
    "with SimpleTimer():\n",
    "    from stream_transformer import StreamFileMapper\n",
    "\n",
    "    def mapper_target(x):\n",
    "        return x.replace(\"st\", \"ff\").replace(\"ri\", \"aa\").replace(\"ng\", \"bb\")\n",
    "\n",
    "\n",
    "    mapper = StreamFileMapper(\n",
    "        path=\"data/file.txt\",\n",
    "        target=mapper_target,\n",
    "        n_jobs=5,\n",
    "        line_by_line=True,\n",
    "        keep_orig_file=False\n",
    "    )\n",
    "\n",
    "    mapper.map()"
   ]
  },
  {
   "cell_type": "code",
   "execution_count": 6,
   "metadata": {},
   "outputs": [
    {
     "name": "stdout",
     "output_type": "stream",
     "text": [
      "It took 116.53576016426086\n"
     ]
    }
   ],
   "source": [
    "with SimpleTimer():\n",
    "    from stream_transformer import StreamFileMapper\n",
    "\n",
    "    def mapper_target(x):\n",
    "        return x.replace(\"st\", \"ff\").replace(\"ri\", \"aa\").replace(\"ng\", \"bb\")\n",
    "\n",
    "\n",
    "    mapper = StreamFileMapper(\n",
    "        path=\"data/file.txt\",\n",
    "        target=mapper_target,\n",
    "        n_jobs=1,\n",
    "        line_by_line=True,\n",
    "        keep_orig_file=False\n",
    "    )\n",
    "\n",
    "    mapper.map()"
   ]
  },
  {
   "cell_type": "code",
   "execution_count": 11,
   "metadata": {},
   "outputs": [
    {
     "name": "stdout",
     "output_type": "stream",
     "text": [
      "It took 59.32274603843689\n"
     ]
    }
   ],
   "source": [
    "with SimpleTimer():\n",
    "    with open(\"data/file.txt\", \"r\") as f_in, open(\"data/file_processed.txt\", \"w\") as f_out:\n",
    "        for line in f_in:\n",
    "            f_out.write(line.replace(\"st\", \"ff\").replace(\"ri\", \"aa\").replace(\"ng\", \"bb\"))"
   ]
  }
 ],
 "metadata": {
  "kernelspec": {
   "display_name": "Python 3",
   "language": "python",
   "name": "python3"
  },
  "language_info": {
   "codemirror_mode": {
    "name": "ipython",
    "version": 3
   },
   "file_extension": ".py",
   "mimetype": "text/x-python",
   "name": "python",
   "nbconvert_exporter": "python",
   "pygments_lexer": "ipython3",
   "version": "3.7.3"
  }
 },
 "nbformat": 4,
 "nbformat_minor": 2
}
