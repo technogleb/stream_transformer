{
 "cells": [
  {
   "cell_type": "code",
   "execution_count": 18,
   "metadata": {},
   "outputs": [],
   "source": [
    "from stream_transformer.simple_timer import SimpleTimer\n",
    "from stream_transformer import StreamFileMapper\n",
    "import subprocess"
   ]
  },
  {
   "cell_type": "markdown",
   "metadata": {},
   "source": [
    "#### As you can see, the more cpu bound the task is, the higher impact does multiprocessing has on performance time. If you have only one core, it's better to just iterate over file_obj = open(\"file\"), otherwise using StreamFileMapper is faster."
   ]
  },
  {
   "cell_type": "code",
   "execution_count": 19,
   "metadata": {},
   "outputs": [],
   "source": [
    "def mapper_target(x):\n",
    "    return x.replace(\"st\", \"ff\").replace(\"ri\", \"aa\").replace(\"ng\", \"bb\")"
   ]
  },
  {
   "cell_type": "code",
   "execution_count": 24,
   "metadata": {},
   "outputs": [
    {
     "name": "stdout",
     "output_type": "stream",
     "text": [
      "It took 31.96187686920166\n"
     ]
    }
   ],
   "source": [
    "with SimpleTimer():\n",
    "    mapper = StreamFileMapper(\n",
    "        path=\"data/file.txt\",\n",
    "        target=mapper_target,\n",
    "        n_jobs=12,\n",
    "        line_by_line=True,\n",
    "        keep_orig_file=False\n",
    "    )\n",
    "\n",
    "    mapper.map()"
   ]
  },
  {
   "cell_type": "code",
   "execution_count": 22,
   "metadata": {},
   "outputs": [
    {
     "name": "stdout",
     "output_type": "stream",
     "text": [
      "It took 116.09702706336975\n"
     ]
    }
   ],
   "source": [
    "with SimpleTimer():\n",
    "    mapper = StreamFileMapper(\n",
    "        path=\"data/file.txt\",\n",
    "        target=mapper_target,\n",
    "        n_jobs=1,\n",
    "        line_by_line=True,\n",
    "        keep_orig_file=False\n",
    "    )\n",
    "\n",
    "    mapper.map()"
   ]
  },
  {
   "cell_type": "code",
   "execution_count": 11,
   "metadata": {},
   "outputs": [
    {
     "name": "stdout",
     "output_type": "stream",
     "text": [
      "It took 59.32274603843689\n"
     ]
    }
   ],
   "source": [
    "with SimpleTimer():\n",
    "    with open(\"data/file.txt\", \"r\") as f_in, open(\"data/file_processed.txt\", \"w\") as f_out:\n",
    "        for line in f_in:\n",
    "            f_out.write(mapper_target(line))"
   ]
  },
  {
   "cell_type": "code",
   "execution_count": 17,
   "metadata": {},
   "outputs": [
    {
     "name": "stdout",
     "output_type": "stream",
     "text": [
      "It took 65.22228789329529\n"
     ]
    }
   ],
   "source": [
    "with SimpleTimer():\n",
    "    output = subprocess.check_output(['sed', '-i', '', 's/string/ablaabla/', 'data/file.txt'])"
   ]
  }
 ],
 "metadata": {
  "kernelspec": {
   "display_name": "Python 3",
   "language": "python",
   "name": "python3"
  },
  "language_info": {
   "codemirror_mode": {
    "name": "ipython",
    "version": 3
   },
   "file_extension": ".py",
   "mimetype": "text/x-python",
   "name": "python",
   "nbconvert_exporter": "python",
   "pygments_lexer": "ipython3",
   "version": "3.7.3"
  }
 },
 "nbformat": 4,
 "nbformat_minor": 2
}
